{
 "cells": [
  {
   "cell_type": "markdown",
   "metadata": {},
   "source": [
    "# Project 2\n",
    "\n",
    "Our data comes from [Tore Opsahl](https://toreopsahl.com/datasets/#online_forum_network) and concerns co-authorship for \"Condensed Matter\" from 1995 to 1999."
   ]
  },
  {
   "cell_type": "markdown",
   "metadata": {},
   "source": [
    "## Data Processing"
   ]
  },
  {
   "cell_type": "code",
   "execution_count": 92,
   "metadata": {},
   "outputs": [],
   "source": [
    "import matplotlib.pyplot as plt\n",
    "import networkx as nx\n",
    "from networkx.algorithms import bipartite\n",
    "import numpy as np\n",
    "import pandas as pd\n",
    "\n",
    "url1 = 'http://opsahl.co.uk/tnet/datasets/Newman-Cond_mat_95-99-Newman.dl'\n",
    "url2 = 'http://opsahl.co.uk/tnet/datasets/Newman-Cond_mat_95-99-Author_names.txt'\n",
    "\n",
    "data = pd.read_csv(url1, sep = \" \", skiprows = 4, header = None)\n",
    "names = pd.read_csv(url2, sep = \" \", header = None)\n",
    "\n",
    "data = data.rename(columns = {0: 'author', 1:'paper', 2:'weight'})\n",
    "names = names.rename(columns = {0: 'index', 1:'author'})\n",
    "\n",
    "names.index = names.index + 1\n",
    "names = names.to_dict()\n",
    "data.author = data.author.replace(names['author'])\n",
    "G = nx.from_pandas_edgelist(data, 'author', 'paper', 'weight')"
   ]
  },
  {
   "cell_type": "markdown",
   "metadata": {},
   "source": [
    "We have two sources, the edgelist for the two-mode network and a list of names for the authors.  We load the data into dataframes via the `pandas` package, rename the columns to make selecting them easier, then utilize `pd.relace()` to replace the numbers in `data` with the actual author names from `names`."
   ]
  },
  {
   "cell_type": "markdown",
   "metadata": {},
   "source": [
    "## Island Method"
   ]
  },
  {
   "cell_type": "code",
   "execution_count": 102,
   "metadata": {},
   "outputs": [],
   "source": [
    "def trim_edges(g, weight = 1):\n",
    "    g2 = nx.Graph()\n",
    "    for f, to, edata in g.edges(data = True):\n",
    "        if edata['weight'] > weight:\n",
    "            g2.add_edges_from([(f, to, edata)])\n",
    "    return(g2)\n",
    "\n",
    "def island_method(g, iterations = 5):\n",
    "    weights = [edata['weight'] for f, to, edata in g.edges(data = True)]\n",
    "    \n",
    "    mn = int(min(weights))\n",
    "    mx = int(max(weights))\n",
    "    \n",
    "    step = int((mx - mn) / iterations)\n",
    "    \n",
    "    return [[threshold, trim_edges(g, threshold)] for threshold in range(mn, mx, step)]"
   ]
  },
  {
   "cell_type": "code",
   "execution_count": 106,
   "metadata": {},
   "outputs": [
    {
     "name": "stdout",
     "output_type": "stream",
     "text": [
      "0 32528 1113\n",
      "4 1516 627\n",
      "8 198 94\n",
      "12 50 24\n",
      "16 8 4\n",
      "20 4 2\n"
     ]
    }
   ],
   "source": [
    "islands = island_method(G)\n",
    "for i in islands:\n",
    "    temp = nx.connected_component_subgraphs(i[1])\n",
    "    print(i[0], len(i[1]), len(list(temp)))"
   ]
  },
  {
   "cell_type": "code",
   "execution_count": null,
   "metadata": {},
   "outputs": [],
   "source": []
  }
 ],
 "metadata": {
  "kernelspec": {
   "display_name": "Python 3",
   "language": "python",
   "name": "python3"
  },
  "language_info": {
   "codemirror_mode": {
    "name": "ipython",
    "version": 3
   },
   "file_extension": ".py",
   "mimetype": "text/x-python",
   "name": "python",
   "nbconvert_exporter": "python",
   "pygments_lexer": "ipython3",
   "version": "3.6.7"
  }
 },
 "nbformat": 4,
 "nbformat_minor": 2
}
